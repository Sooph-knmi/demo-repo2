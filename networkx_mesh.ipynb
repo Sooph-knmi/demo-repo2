{
 "cells": [
  {
   "cell_type": "code",
   "execution_count": 20,
   "metadata": {},
   "outputs": [],
   "source": [
    "import numpy as np\n",
    "import trimesh\n",
    "import networkx as nx\n",
    "from sklearn.metrics.pairwise import haversine_distances\n",
    "from sklearn.neighbors import BallTree\n",
    "from scipy.spatial.transform import Rotation as R"
   ]
  },
  {
   "cell_type": "code",
   "execution_count": null,
   "metadata": {},
   "outputs": [],
   "source": [
    "def direction_vec(v1, v2, epsilon=10e-11):\n",
    "    v = np.cross(v1, v2)\n",
    "    vnorm1 = np.dot(v, v)\n",
    "    if vnorm1 < epsilon:\n",
    "        v1 = v1 + epsilon\n",
    "        v = np.cross(v1, v2)\n",
    "        vnorm1 = np.dot(v, v)\n",
    "    return v / np.sqrt(vnorm1)"
   ]
  },
  {
   "cell_type": "code",
   "execution_count": 1,
   "metadata": {},
   "outputs": [],
   "source": [
    "def create_sphere(subdivisions=0, radius=1.0):\n",
    "    return trimesh.creation.icosphere(subdivisions=subdivisions, radius=radius)"
   ]
  },
  {
   "cell_type": "code",
   "execution_count": 18,
   "metadata": {},
   "outputs": [],
   "source": [
    "def to_unit_sphere_xyz(loc):\n",
    "    latr, lonr = loc\n",
    "    R = 1.0\n",
    "    x = R * np.cos(latr) * np.cos(lonr)\n",
    "    y = R * np.cos(latr) * np.sin(lonr)\n",
    "    z = R * np.sin(latr)\n",
    "    return np.array((x, y, z))"
   ]
  },
  {
   "cell_type": "code",
   "execution_count": 19,
   "metadata": {},
   "outputs": [],
   "source": [
    "def get_rotation_from_unit_vecs(v1, v2):\n",
    "    v_unit = direction_vec(v1, v2)\n",
    "    theta = np.arccos(np.dot(v1, v2))\n",
    "    return R.from_rotvec(v_unit * theta)"
   ]
  },
  {
   "cell_type": "code",
   "execution_count": 4,
   "metadata": {},
   "outputs": [],
   "source": [
    "def to_latlon(xyz, radius=1.0):\n",
    "    lat = np.arcsin(xyz[..., 2] / radius) * 180.0 / np.pi\n",
    "    lon = np.arctan2(xyz[..., 1], xyz[..., 0]) * 180.0 / np.pi\n",
    "    return np.array((lat, lon), dtype=np.float32).transpose()"
   ]
  },
  {
   "cell_type": "code",
   "execution_count": 7,
   "metadata": {},
   "outputs": [],
   "source": [
    "def to_rad(xyz, radius=1.0):\n",
    "    lat = np.arcsin(xyz[..., 2] / radius)\n",
    "    lon = np.arctan2(xyz[..., 1], xyz[..., 0])\n",
    "    return np.array((lat, lon), dtype=np.float32).transpose()"
   ]
  },
  {
   "cell_type": "code",
   "execution_count": 17,
   "metadata": {},
   "outputs": [],
   "source": [
    "def compute_directions(loc1, loc2, pole_vec=(0.0, 0.0, 1.0)):\n",
    "    pole_vec = np.array(pole_vec)  # all will be rotated relative to destination node\n",
    "    loc1_xyz = to_unit_sphere_xyz(loc1)\n",
    "    loc2_xyz = to_unit_sphere_xyz(loc2)\n",
    "    r = get_rotation_from_unit_vecs(loc2_xyz, pole_vec)  # r.apply(loc1_xyz) == pole_vec\n",
    "    direction = direction_vec(r.apply(loc1_xyz), pole_vec)\n",
    "    return direction / np.sqrt(np.dot(direction, direction))"
   ]
  },
  {
   "cell_type": "code",
   "execution_count": 16,
   "metadata": {},
   "outputs": [],
   "source": [
    "def directional_edge_features_rotated(loc1, loc2):\n",
    "    return compute_directions(loc1, loc2)[0:2]  # discard last component -> zero if rotated to north pole"
   ]
  },
  {
   "cell_type": "code",
   "execution_count": 8,
   "metadata": {},
   "outputs": [],
   "source": [
    "def get_one_ring(sp):\n",
    "    g = nx.from_edgelist(sp.edges_unique)\n",
    "    one_ring = [list(g[i].keys()) for i in range(len(sp.vertices))]\n",
    "\n",
    "    return one_ring"
   ]
  },
  {
   "cell_type": "code",
   "execution_count": 9,
   "metadata": {},
   "outputs": [],
   "source": [
    "def add_edge(G, idx1, idx2, allow_self_loop=False, add_edge_attrib=False):\n",
    "    loc1 = np.deg2rad(h3.h3_to_geo(idx1))\n",
    "    loc2 = np.deg2rad(h3.h3_to_geo(idx2))\n",
    "    if allow_self_loop or idx1 != idx2:\n",
    "        if add_edge_attrib:\n",
    "            direction = directional_edge_features_rotated(loc1, loc2)\n",
    "            G.add_edge(\n",
    "                idx1,\n",
    "                idx2,\n",
    "                edge_attr=(haversine_distances([loc1, loc2])[0][1], *direction),\n",
    "            )\n",
    "\n",
    "        else:\n",
    "            G.add_edge(idx1, idx2, weight=haversine_distances([loc1, loc2])[0][1])\n",
    "            # G.add_edge(idx1, idx2, weight = h3.point_dist(loc1, loc2, unit='rads'))\n"
   ]
  },
  {
   "cell_type": "code",
   "execution_count": 10,
   "metadata": {},
   "outputs": [],
   "source": [
    "def add_nodes(G, resolution, self_loop=False):\n",
    "    for idx in h3.uncompact(h3.get_res0_indexes(), resolution):\n",
    "        G.add_node(idx, hcoords_rad=np.deg2rad(h3.h3_to_geo(idx)))\n",
    "        if self_loop:\n",
    "            add_edge(G, idx, idx, allow_self_loop=self_loop)"
   ]
  },
  {
   "cell_type": "code",
   "execution_count": 6,
   "metadata": {},
   "outputs": [],
   "source": [
    "def multi_mesh2(resolutions):\n",
    "    G = nx.Graph()\n",
    "\n",
    "    sp1 = create_sphere(resolutions[-1])\n",
    "    sp1_rad = to_rad(sp1.vertices)\n",
    "    one_rings = get_one_ring(sp1)\n",
    "\n",
    "    for ii, coords in enumerate(sp1_rad):\n",
    "        G.add_node(ii, hcoords_rad=sp1_rad[ii])\n",
    "\n",
    "    for ii in range(len(sp1.vertices)):\n",
    "        for ineighb in one_rings[ii]:\n",
    "            if ineighb != ii:\n",
    "                loc_self = sp1_rad[ii]\n",
    "                loc_neigh = sp1_rad[ineighb]\n",
    "                # direction = directional_edge_features_rotated(loc_neigh, loc_self)\n",
    "                # G.add_edge(ineighb, ii, edge_attr=(haversine_distances([loc_neigh, loc_self])[0][1], *direction))\n",
    "                G.add_edge(ineighb, ii, weight=haversine_distances([loc_neigh, loc_self])[0][1])\n",
    "\n",
    "    tree = BallTree(sp1_rad, metric=\"haversine\")\n",
    "\n",
    "    for resolution in resolutions[:-1]:\n",
    "        sp2 = create_sphere(resolution)\n",
    "        sp2_rad = to_rad(sp2.vertices)\n",
    "        one_rings = get_one_ring(sp2)\n",
    "\n",
    "        dist, ind1 = tree.query(sp2_rad, k=1)\n",
    "        for ii in range(len(sp2.vertices)):\n",
    "            for ineighb in one_rings[ii]:\n",
    "                if ineighb != ii:\n",
    "                    loc_dst = sp2_rad[ii]\n",
    "                    loc_neigh = sp2_rad[ineighb]\n",
    "                    # direction = directional_edge_features_rotated(loc_neigh, loc_dst)\n",
    "                    # G.add_edge(ind1[ineighb][0], ind1[ii][0], \\\n",
    "                    # edge_attr=(haversine_distances([loc_neigh, loc_dst])[0][1], *direction))\n",
    "                    G.add_edge(ind1[ineighb][0], ind1[ii][0], weight=haversine_distances([loc_neigh, loc_dst])[0][1])\n",
    "\n",
    "    return G, sp1_rad"
   ]
  },
  {
   "cell_type": "code",
   "execution_count": null,
   "metadata": {},
   "outputs": [],
   "source": []
  }
 ],
 "metadata": {
  "kernelspec": {
   "display_name": "Python 3",
   "language": "python",
   "name": "python3"
  },
  "language_info": {
   "codemirror_mode": {
    "name": "ipython",
    "version": 3
   },
   "file_extension": ".py",
   "mimetype": "text/x-python",
   "name": "python",
   "nbconvert_exporter": "python",
   "pygments_lexer": "ipython3",
   "version": "3.11.6"
  }
 },
 "nbformat": 4,
 "nbformat_minor": 2
}
